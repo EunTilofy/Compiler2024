{
 "cells": [
  {
   "cell_type": "code",
   "execution_count": 1,
   "metadata": {},
   "outputs": [],
   "source": [
    "from graphviz import Digraph\n",
    "\n",
    "def draw_dfa(states, transitions, start_state, accept_states):\n",
    "    f = Digraph('finite_state_machine', filename='fsm.gv')\n",
    "    f.attr(rankdir='LR', size='20,20')\n",
    "\n",
    "    # 添加接受状态节点\n",
    "    f.attr('node', shape='doublecircle', fillcolor = 'lightblue')\n",
    "    for state in accept_states:\n",
    "        f.node(state)\n",
    "\n",
    "    # 添加非接受状态节点\n",
    "    f.attr('node', shape='circle', fillcolor = 'white')\n",
    "    for state in states:\n",
    "        if state not in accept_states:\n",
    "            f.node(state)\n",
    "\n",
    "    # 添加转移边\n",
    "    for state in transitions:\n",
    "        for symbol, next_state in transitions[state].items():\n",
    "            f.edge(state, next_state, label=symbol)\n",
    "            \n",
    "    f.attr('node', shape='none')\n",
    "    f.edge('', start_state, arrowhead='vee')\n",
    "\n",
    "    f.view()"
   ]
  },
  {
   "cell_type": "code",
   "execution_count": null,
   "metadata": {},
   "outputs": [],
   "source": [
    "# 定义DFA的参数\n",
    "states = {'1','3','5','7','9','11','13','15','17','19','21','23','25','27','29','31','33','35','37','39','41','43','45','47','49','51','53','55','57','59','61','63',}\n",
    "transitions = {\n",
    "'1':{'a': '3', 'b': '1'},\n",
    "'3':{'a': '7', 'b': '5'},\n",
    "'5':{'a': '11', 'b': '9'},\n",
    "'7':{'a': '15', 'b': '13'},\n",
    "'9':{'a': '19', 'b': '17'},\n",
    "'11':{'a': '23', 'b': '21'},\n",
    "'13':{'a': '27', 'b': '25'},\n",
    "'15':{'a': '31', 'b': '29'},\n",
    "'17':{'a': '35', 'b': '33'},\n",
    "'19':{'a': '39', 'b': '37'},\n",
    "'21':{'a': '43', 'b': '41'},\n",
    "'23':{'a': '47', 'b': '45'},\n",
    "'25':{'a': '51', 'b': '49'},\n",
    "'27':{'a': '55', 'b': '53'},\n",
    "'29':{'a': '59', 'b': '57'},\n",
    "'31':{'a': '63', 'b': '61'},\n",
    "'33':{'a': '3', 'b': '1'},\n",
    "'35':{'a': '7', 'b': '5'},\n",
    "'37':{'a': '11', 'b': '9'},\n",
    "'39':{'a': '15', 'b': '13'},\n",
    "'41':{'a': '19', 'b': '17'},\n",
    "'43':{'a': '23', 'b': '21'},\n",
    "'45':{'a': '27', 'b': '25'},\n",
    "'47':{'a': '31', 'b': '29'},\n",
    "'49':{'a': '35', 'b': '33'},\n",
    "'51':{'a': '39', 'b': '37'},\n",
    "'53':{'a': '43', 'b': '41'},\n",
    "'55':{'a': '47', 'b': '45'},\n",
    "'57':{'a': '51', 'b': '49'},\n",
    "'59':{'a': '55', 'b': '53'},\n",
    "'61':{'a': '59', 'b': '57'},\n",
    "'63':{'a': '63', 'b': '61'},\n",
    "}\n",
    "accept_states = {'33','35','37','39','41','43','45','47','49','51','53','55','57','59','61','63',}\n",
    "start_state = '1'\n",
    "\n",
    "# 绘制DFA\n",
    "draw_dfa(states, transitions, start_state, accept_states)\n"
   ]
  },
  {
   "cell_type": "code",
   "execution_count": 3,
   "metadata": {},
   "outputs": [],
   "source": [
    "states2 = {'1234', '567', '67'}\n",
    "start_state2 = '1234'\n",
    "accept_states2 = { '567', '67'}\n",
    "transitions2 = {\n",
    "    '1234' : {'x' : '567', 'y' : '67'}, \n",
    "    '567'  : {'z' : '1234'}\n",
    "}\n",
    "draw_dfa(states2, transitions2, start_state2, accept_states2)"
   ]
  },
  {
   "cell_type": "code",
   "execution_count": 2,
   "metadata": {},
   "outputs": [],
   "source": [
    "states3 = {\"1\", \"2\", \"3\", \"6\", \"7\"}\n",
    "start_state3 = \"1\"\n",
    "accept_states3 = {\"3\"}\n",
    "transitions3 = {\n",
    "    \"1\" : {'0' : \"2\", '1' : \"6\"}, \n",
    "    \"2\" : {'0' : \"7\", '1' : \"3\"}, \n",
    "    \"3\" : {'0' : \"1\", '1' : \"3\"}, \n",
    "    \"6\" : {'0' : \"3\", '1' : \"7\"}, \n",
    "    \"7\" : {'0' : \"7\", '1' : \"1\"}, \n",
    "}\n",
    "draw_dfa(states3, transitions3, start_state3, accept_states3)"
   ]
  },
  {
   "cell_type": "code",
   "execution_count": null,
   "metadata": {},
   "outputs": [],
   "source": [
    "!dot -Tpng fsm.gv -o fsm.png"
   ]
  }
 ],
 "metadata": {
  "kernelspec": {
   "display_name": "Python 3",
   "language": "python",
   "name": "python3"
  },
  "language_info": {
   "codemirror_mode": {
    "name": "ipython",
    "version": 3
   },
   "file_extension": ".py",
   "mimetype": "text/x-python",
   "name": "python",
   "nbconvert_exporter": "python",
   "pygments_lexer": "ipython3",
   "version": "3.11.6"
  }
 },
 "nbformat": 4,
 "nbformat_minor": 2
}
